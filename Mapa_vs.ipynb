{
 "cells": [
  {
   "cell_type": "code",
   "execution_count": 1,
   "metadata": {},
   "outputs": [
    {
     "name": "stderr",
     "output_type": "stream",
     "text": [
      "\n",
      "[notice] A new release of pip is available: 23.2.1 -> 23.3.1\n",
      "[notice] To update, run: C:\\Users\\Carol\\AppData\\Local\\Microsoft\\WindowsApps\\PythonSoftwareFoundation.Python.3.9_qbz5n2kfra8p0\\python.exe -m pip install --upgrade pip\n",
      "\n",
      "[notice] A new release of pip is available: 23.2.1 -> 23.3.1\n",
      "[notice] To update, run: C:\\Users\\Carol\\AppData\\Local\\Microsoft\\WindowsApps\\PythonSoftwareFoundation.Python.3.9_qbz5n2kfra8p0\\python.exe -m pip install --upgrade pip\n",
      "ERROR: Invalid requirement: '#permite'\n",
      "\n",
      "[notice] A new release of pip is available: 23.2.1 -> 23.3.1\n",
      "[notice] To update, run: C:\\Users\\Carol\\AppData\\Local\\Microsoft\\WindowsApps\\PythonSoftwareFoundation.Python.3.9_qbz5n2kfra8p0\\python.exe -m pip install --upgrade pip\n",
      "ERROR: Invalid requirement: '#módulo'\n",
      "\n",
      "[notice] A new release of pip is available: 23.2.1 -> 23.3.1\n",
      "[notice] To update, run: C:\\Users\\Carol\\AppData\\Local\\Microsoft\\WindowsApps\\PythonSoftwareFoundation.Python.3.9_qbz5n2kfra8p0\\python.exe -m pip install --upgrade pip\n",
      "ERROR: Invalid requirement: '#Importação'\n",
      "\n",
      "[notice] A new release of pip is available: 23.2.1 -> 23.3.1\n",
      "[notice] To update, run: C:\\Users\\Carol\\AppData\\Local\\Microsoft\\WindowsApps\\PythonSoftwareFoundation.Python.3.9_qbz5n2kfra8p0\\python.exe -m pip install --upgrade pip\n",
      "\n",
      "[notice] A new release of pip is available: 23.2.1 -> 23.3.1\n",
      "[notice] To update, run: C:\\Users\\Carol\\AppData\\Local\\Microsoft\\WindowsApps\\PythonSoftwareFoundation.Python.3.9_qbz5n2kfra8p0\\python.exe -m pip install --upgrade pip\n"
     ]
    }
   ],
   "source": [
    "!pip install geopandas -q\n",
    "!pip install pandas -q\n",
    "!pip install matplotlib -q              #permite personalizar opões de design\n",
    "!pip install matplotlib.scalebar -q     #módulo da matplot específico para escala\n",
    "!pip install contextily -q              #Importação de mapa base externo\n",
    "!pip install mapclassify -q"
   ]
  },
  {
   "cell_type": "code",
   "execution_count": 9,
   "metadata": {},
   "outputs": [],
   "source": [
    "import geopandas as gpd\n",
    "import pandas as pd\n",
    "import matplotlib.pyplot as plt\n",
    "from matplotlib import font_manager\n",
    "from mpl_toolkits.axes_grid1 import make_axes_locatable #da escala\n",
    "from mpl_toolkits.axes_grid1.inset_locator import inset_axes, TransformedBbox #da escala\n",
    "from matplotlib_scalebar.scalebar import ScaleBar #da escala\n",
    "from pandas.core.reshape.tile import Categorical"
   ]
  },
  {
   "cell_type": "code",
   "execution_count": 1,
   "metadata": {},
   "outputs": [
    {
     "ename": "NameError",
     "evalue": "name 'pd' is not defined",
     "output_type": "error",
     "traceback": [
      "\u001b[1;31m---------------------------------------------------------------------------\u001b[0m",
      "\u001b[1;31mNameError\u001b[0m                                 Traceback (most recent call last)",
      "\u001b[1;32mc:\\Users\\Carol\\Documents\\GitHub\\Exerc_inicial_Python\\Mapa_vs.ipynb Cell 3\u001b[0m line \u001b[0;36m1\n\u001b[0;32m      <a href='vscode-notebook-cell:/c%3A/Users/Carol/Documents/GitHub/Exerc_inicial_Python/Mapa_vs.ipynb#W2sZmlsZQ%3D%3D?line=6'>7</a>\u001b[0m estado \u001b[39m=\u001b[39m estado\u001b[39m.\u001b[39mupper()\n\u001b[0;32m      <a href='vscode-notebook-cell:/c%3A/Users/Carol/Documents/GitHub/Exerc_inicial_Python/Mapa_vs.ipynb#W2sZmlsZQ%3D%3D?line=8'>9</a>\u001b[0m \u001b[39m#tabela rascunho interna para verificação do estado ao qual a cidade pertence\u001b[39;00m\n\u001b[1;32m---> <a href='vscode-notebook-cell:/c%3A/Users/Carol/Documents/GitHub/Exerc_inicial_Python/Mapa_vs.ipynb#W2sZmlsZQ%3D%3D?line=9'>10</a>\u001b[0m tabela1 \u001b[39m=\u001b[39m pd\u001b[39m.\u001b[39mread_csv(\u001b[39mr\u001b[39m\u001b[39m'\u001b[39m\u001b[39mC:/Users/Carol/Polo Planejamento/E - Grupos de Trabalho - Documentos/05 - GeoT/Servidor/03_Tabela/Estados.csv\u001b[39m\u001b[39m'\u001b[39m, sep\u001b[39m=\u001b[39m\u001b[39m\"\u001b[39m\u001b[39m,\u001b[39m\u001b[39m\"\u001b[39m, decimal\u001b[39m=\u001b[39m\u001b[39m\"\u001b[39m\u001b[39m.\u001b[39m\u001b[39m\"\u001b[39m, encoding\u001b[39m=\u001b[39m\u001b[39m\"\u001b[39m\u001b[39mUTF-8\u001b[39m\u001b[39m\"\u001b[39m)\n\u001b[0;32m     <a href='vscode-notebook-cell:/c%3A/Users/Carol/Documents/GitHub/Exerc_inicial_Python/Mapa_vs.ipynb#W2sZmlsZQ%3D%3D?line=10'>11</a>\u001b[0m cid_estado \u001b[39m=\u001b[39m tabela1[tabela1\u001b[39m.\u001b[39mNM_MUN \u001b[39m==\u001b[39m cidade]\n\u001b[0;32m     <a href='vscode-notebook-cell:/c%3A/Users/Carol/Documents/GitHub/Exerc_inicial_Python/Mapa_vs.ipynb#W2sZmlsZQ%3D%3D?line=11'>12</a>\u001b[0m cid_estado \u001b[39m=\u001b[39m cid_estado[[\u001b[39m\"\u001b[39m\u001b[39mSIGLA_UF\u001b[39m\u001b[39m\"\u001b[39m]]\n",
      "\u001b[1;31mNameError\u001b[0m: name 'pd' is not defined"
     ]
    }
   ],
   "source": [
    "estado = \"SP\"          #colocar o estado para não ter problema com duplicidade de municipios\n",
    "cidade = \"Campinas\"          #coloque com acento se houver, não esqueça das aspas\n",
    "parametro_censo = \"Situação Urbana\"\n",
    "\n",
    "cidade = cidade.title()                             #transforma em letras maiusculas as primeiras das palavras\n",
    "parametro_censo = parametro_censo.upper()           #transforma em letras maiusculas\n",
    "estado = estado.upper()\n",
    "\n",
    "#tabela rascunho interna para verificação do estado ao qual a cidade pertence\n",
    "tabela1 = pd.read_csv(r'C:/Users/Carol/Polo Planejamento/E - Grupos de Trabalho - Documentos/05 - GeoT/Servidor/03_Tabela/Estados.csv', sep=\",\", decimal=\".\", encoding=\"UTF-8\")\n",
    "cid_estado = tabela1[tabela1.NM_MUN == cidade]\n",
    "cid_estado = cid_estado[[\"SIGLA_UF\"]]\n",
    "#coluna para epsg\n",
    "\n",
    "indice_resetado = cid_estado.reset_index()         #como a tabela é grande, após encontrar, precisa-se resetar a fim de se pegar o registro com nome da cidade que agora sempre estara no [0]\n",
    "estado = indice_resetado.loc[0, 'SIGLA_UF']  #caso o nome da cidade seja compartilhado por outra em outro estado trocar o número 0 por 1 ou 2, ou 3....\n",
    "\n",
    "#Se o Estado for SP verificar aqui se é da RMSP\n",
    "\n",
    "caminho_cidades = r'C:/Users/Carol/Polo Planejamento/E - Grupos de Trabalho - Documentos/05 - GeoT/Servidor/01_Vetor/01_Temas' + estado + \"_mun.shp\"\n",
    "caminho_setores = \"/content/drive/MyDrive/Camadas/\" + estado + \"_setores.shp\"\n",
    "caminho_tabela_setores = \"/content/drive/MyDrive/Tabelas/\" + estado + \"_tab_setores.csv\"\n",
    "caminho_tabela_raca = \"/content/drive/MyDrive/Tabelas/Pessoa03_\" + estado + \".csv\"\n",
    "\n",
    "shape_estado_mun = gpd.read_file(caminho_cidades)\n",
    "shape_setores = gpd.read_file(caminho_setores)\n",
    "tabela_setores = pd.read_csv(caminho_tabela_setores, sep=\";\", decimal=\",\", encoding=\"UTF-8\")\n",
    "#tabela_raca = pd.read_csv(caminho_tabela_raca, sep=\";\", decimal=\",\", encoding=\"UTF-8\")\n",
    "\n",
    "#adequação ao crs correto das camadas obtidas\n",
    "shape_estado_mun =shape_estado_mun.to_crs(epsg=31983)\n",
    "shape_setores = shape_setores.to_crs(epsg=31983)\n",
    "\n"
   ]
  }
 ],
 "metadata": {
  "kernelspec": {
   "display_name": "Python 3",
   "language": "python",
   "name": "python3"
  },
  "language_info": {
   "codemirror_mode": {
    "name": "ipython",
    "version": 3
   },
   "file_extension": ".py",
   "mimetype": "text/x-python",
   "name": "python",
   "nbconvert_exporter": "python",
   "pygments_lexer": "ipython3",
   "version": "3.11.4"
  }
 },
 "nbformat": 4,
 "nbformat_minor": 2
}
